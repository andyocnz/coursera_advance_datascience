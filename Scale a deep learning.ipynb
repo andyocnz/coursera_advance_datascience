{
    "cells": [
        {
            "cell_type": "markdown",
            "metadata": {},
            "source": "# Zero to Singularity: Create, Tune, Deploy and Scale a Deep Neural Network in 90 Minutes\n\nThis notebook is part of a masterclass held at IBM Think on 13th of February 2019 in San Fransisco\nIn this exercise you will train a Keras DeepLearning model running on top of TensorFlow. \n\nNote: For sake of bringing the training runtime down we've done two things\n\n1) Used a softmax regression model over a Convolutional Neural Network \n\n2) Trained only for one epoch instead of 20\n\nThis leads to approx. 5% less accuracy\n\n\nAuthors\n\nRomeo Kienzler - Chief Data Scientist, IBM Watson IoT\n\nKrishnamurthy Arthanarisamy - Architect, Watson Machine Learning Software Lab, Bangalore\n\n\n# Prerequisites\n\nPlease make sure the currently installed version of Keras and Tensorflow are matching the requirememts, if not, please run the two PIP commands below in order to re-install. Please restart the kernal before proceeding, please re-check if the versions are matching."
        },
        {
            "cell_type": "code",
            "execution_count": 1,
            "metadata": {},
            "outputs": [
                {
                    "name": "stderr",
                    "output_type": "stream",
                    "text": "Using TensorFlow backend.\n"
                },
                {
                    "name": "stdout",
                    "output_type": "stream",
                    "text": "Current:\t 2.2.4\nExpected:\t 2.2.5 \n"
                }
            ],
            "source": "import keras\nprint('Current:\\t', keras.__version__)\nprint('Expected:\\t 2.2.5 ')"
        },
        {
            "cell_type": "code",
            "execution_count": 2,
            "metadata": {},
            "outputs": [
                {
                    "name": "stdout",
                    "output_type": "stream",
                    "text": "Current:\t 1.13.1\nExpected:\t 1.15.0\n"
                }
            ],
            "source": "import tensorflow as tf\nprint('Current:\\t', tf.__version__)\nprint('Expected:\\t 1.15.0')"
        },
        {
            "cell_type": "markdown",
            "metadata": {},
            "source": "# IMPORTANT !!!\n\nIf you ran the two lines below please restart your kernel (Kernel->Restart & Clear Output)"
        },
        {
            "cell_type": "code",
            "execution_count": 3,
            "metadata": {},
            "outputs": [
                {
                    "name": "stdout",
                    "output_type": "stream",
                    "text": "Collecting keras==2.2.5\n\u001b[?25l  Downloading https://files.pythonhosted.org/packages/f8/ba/2d058dcf1b85b9c212cc58264c98a4a7dd92c989b798823cc5690d062bb2/Keras-2.2.5-py2.py3-none-any.whl (336kB)\n\u001b[K     |\u2588\u2588\u2588\u2588\u2588\u2588\u2588\u2588\u2588\u2588\u2588\u2588\u2588\u2588\u2588\u2588\u2588\u2588\u2588\u2588\u2588\u2588\u2588\u2588\u2588\u2588\u2588\u2588\u2588\u2588\u2588\u2588| 337kB 8.0MB/s eta 0:00:01\n\u001b[?25hRequirement already satisfied: pyyaml in /opt/conda/envs/Python36/lib/python3.6/site-packages (from keras==2.2.5) (3.13)\nCollecting keras-applications>=1.0.8 (from keras==2.2.5)\n\u001b[?25l  Downloading https://files.pythonhosted.org/packages/71/e3/19762fdfc62877ae9102edf6342d71b28fbfd9dea3d2f96a882ce099b03f/Keras_Applications-1.0.8-py3-none-any.whl (50kB)\n\u001b[K     |\u2588\u2588\u2588\u2588\u2588\u2588\u2588\u2588\u2588\u2588\u2588\u2588\u2588\u2588\u2588\u2588\u2588\u2588\u2588\u2588\u2588\u2588\u2588\u2588\u2588\u2588\u2588\u2588\u2588\u2588\u2588\u2588| 51kB 17.6MB/s eta 0:00:01\n\u001b[?25hRequirement already satisfied: scipy>=0.14 in /opt/conda/envs/Python36/lib/python3.6/site-packages (from keras==2.2.5) (1.2.0)\nRequirement already satisfied: numpy>=1.9.1 in /opt/conda/envs/Python36/lib/python3.6/site-packages (from keras==2.2.5) (1.15.4)\nRequirement already satisfied: h5py in /opt/conda/envs/Python36/lib/python3.6/site-packages (from keras==2.2.5) (2.9.0)\nRequirement already satisfied: six>=1.9.0 in /opt/conda/envs/Python36/lib/python3.6/site-packages (from keras==2.2.5) (1.12.0)\nCollecting keras-preprocessing>=1.1.0 (from keras==2.2.5)\n\u001b[?25l  Downloading https://files.pythonhosted.org/packages/79/4c/7c3275a01e12ef9368a892926ab932b33bb13d55794881e3573482b378a7/Keras_Preprocessing-1.1.2-py2.py3-none-any.whl (42kB)\n\u001b[K     |\u2588\u2588\u2588\u2588\u2588\u2588\u2588\u2588\u2588\u2588\u2588\u2588\u2588\u2588\u2588\u2588\u2588\u2588\u2588\u2588\u2588\u2588\u2588\u2588\u2588\u2588\u2588\u2588\u2588\u2588\u2588\u2588| 51kB 17.5MB/s eta 0:00:01\n\u001b[31mERROR: tensorflow 1.13.1 requires tensorboard<1.14.0,>=1.13.0, which is not installed.\u001b[0m\n\u001b[?25hInstalling collected packages: keras-applications, keras-preprocessing, keras\n  Found existing installation: Keras-Applications 1.0.6\n    Uninstalling Keras-Applications-1.0.6:\n      Successfully uninstalled Keras-Applications-1.0.6\n  Found existing installation: Keras-Preprocessing 1.0.5\n    Uninstalling Keras-Preprocessing-1.0.5:\n      Successfully uninstalled Keras-Preprocessing-1.0.5\n  Found existing installation: Keras 2.2.4\n    Uninstalling Keras-2.2.4:\n      Successfully uninstalled Keras-2.2.4\nSuccessfully installed keras-2.2.5 keras-applications-1.0.8 keras-preprocessing-1.1.2\n"
                }
            ],
            "source": "!pip install keras==2.2.5 "
        },
        {
            "cell_type": "code",
            "execution_count": 4,
            "metadata": {},
            "outputs": [
                {
                    "name": "stdout",
                    "output_type": "stream",
                    "text": "Collecting tensorflow==1.15.0\n\u001b[?25l  Downloading https://files.pythonhosted.org/packages/3f/98/5a99af92fb911d7a88a0005ad55005f35b4c1ba8d75fba02df726cd936e6/tensorflow-1.15.0-cp36-cp36m-manylinux2010_x86_64.whl (412.3MB)\n\u001b[K     |\u2588\u2588\u2588\u2588\u2588\u2588\u2588\u2588\u2588\u2588\u2588\u2588\u2588\u2588\u2588\u2588\u2588\u2588\u2588\u2588\u2588\u2588\u2588\u2588\u2588\u2588\u2588\u2588\u2588\u2588\u2588\u2588| 412.3MB 81kB/s s eta 0:00:01    |\u2588\u2588\u2588                             | 38.4MB 36.7MB/s eta 0:00:11\u2588\u2588\u258e                   | 158.1MB 34.7MB/s eta 0:00:08\n\u001b[?25hCollecting tensorboard<1.16.0,>=1.15.0 (from tensorflow==1.15.0)\n\u001b[?25l  Downloading https://files.pythonhosted.org/packages/1e/e9/d3d747a97f7188f48aa5eda486907f3b345cd409f0a0850468ba867db246/tensorboard-1.15.0-py3-none-any.whl (3.8MB)\n\u001b[K     |\u2588\u2588\u2588\u2588\u2588\u2588\u2588\u2588\u2588\u2588\u2588\u2588\u2588\u2588\u2588\u2588\u2588\u2588\u2588\u2588\u2588\u2588\u2588\u2588\u2588\u2588\u2588\u2588\u2588\u2588\u2588\u2588| 3.8MB 30.4MB/s eta 0:00:01\n\u001b[?25hRequirement already satisfied: gast==0.2.2 in /opt/conda/envs/Python36/lib/python3.6/site-packages (from tensorflow==1.15.0) (0.2.2)\nRequirement already satisfied: grpcio>=1.8.6 in /opt/conda/envs/Python36/lib/python3.6/site-packages (from tensorflow==1.15.0) (1.16.1)\nCollecting google-pasta>=0.1.6 (from tensorflow==1.15.0)\n\u001b[?25l  Downloading https://files.pythonhosted.org/packages/a3/de/c648ef6835192e6e2cc03f40b19eeda4382c49b5bafb43d88b931c4c74ac/google_pasta-0.2.0-py3-none-any.whl (57kB)\n\u001b[K     |\u2588\u2588\u2588\u2588\u2588\u2588\u2588\u2588\u2588\u2588\u2588\u2588\u2588\u2588\u2588\u2588\u2588\u2588\u2588\u2588\u2588\u2588\u2588\u2588\u2588\u2588\u2588\u2588\u2588\u2588\u2588\u2588| 61kB 17.9MB/s eta 0:00:01\n\u001b[?25hRequirement already satisfied: keras-preprocessing>=1.0.5 in /opt/conda/envs/Python36/lib/python3.6/site-packages (from tensorflow==1.15.0) (1.1.2)\nRequirement already satisfied: wrapt>=1.11.1 in /opt/conda/envs/Python36/lib/python3.6/site-packages (from tensorflow==1.15.0) (1.11.1)\nRequirement already satisfied: wheel>=0.26 in /opt/conda/envs/Python36/lib/python3.6/site-packages (from tensorflow==1.15.0) (0.32.3)\nRequirement already satisfied: six>=1.10.0 in /opt/conda/envs/Python36/lib/python3.6/site-packages (from tensorflow==1.15.0) (1.12.0)\nCollecting numpy<2.0,>=1.16.0 (from tensorflow==1.15.0)\n\u001b[?25l  Downloading https://files.pythonhosted.org/packages/b1/9a/7d474ba0860a41f771c9523d8c4ea56b084840b5ca4092d96bdee8a3b684/numpy-1.19.1-cp36-cp36m-manylinux2010_x86_64.whl (14.5MB)\n\u001b[K     |\u2588\u2588\u2588\u2588\u2588\u2588\u2588\u2588\u2588\u2588\u2588\u2588\u2588\u2588\u2588\u2588\u2588\u2588\u2588\u2588\u2588\u2588\u2588\u2588\u2588\u2588\u2588\u2588\u2588\u2588\u2588\u2588| 14.5MB 30.0MB/s eta 0:00:01\n\u001b[?25hRequirement already satisfied: absl-py>=0.7.0 in /opt/conda/envs/Python36/lib/python3.6/site-packages (from tensorflow==1.15.0) (0.7.0)\nRequirement already satisfied: protobuf>=3.6.1 in /opt/conda/envs/Python36/lib/python3.6/site-packages (from tensorflow==1.15.0) (3.11.2)\nRequirement already satisfied: termcolor>=1.1.0 in /opt/conda/envs/Python36/lib/python3.6/site-packages (from tensorflow==1.15.0) (1.1.0)\nRequirement already satisfied: astor>=0.6.0 in /opt/conda/envs/Python36/lib/python3.6/site-packages (from tensorflow==1.15.0) (0.7.1)\nCollecting opt-einsum>=2.3.2 (from tensorflow==1.15.0)\n\u001b[?25l  Downloading https://files.pythonhosted.org/packages/bc/19/404708a7e54ad2798907210462fd950c3442ea51acc8790f3da48d2bee8b/opt_einsum-3.3.0-py3-none-any.whl (65kB)\n\u001b[K     |\u2588\u2588\u2588\u2588\u2588\u2588\u2588\u2588\u2588\u2588\u2588\u2588\u2588\u2588\u2588\u2588\u2588\u2588\u2588\u2588\u2588\u2588\u2588\u2588\u2588\u2588\u2588\u2588\u2588\u2588\u2588\u2588| 71kB 17.2MB/s eta 0:00:01\n\u001b[?25hRequirement already satisfied: keras-applications>=1.0.8 in /opt/conda/envs/Python36/lib/python3.6/site-packages (from tensorflow==1.15.0) (1.0.8)\nCollecting tensorflow-estimator==1.15.1 (from tensorflow==1.15.0)\n\u001b[?25l  Downloading https://files.pythonhosted.org/packages/de/62/2ee9cd74c9fa2fa450877847ba560b260f5d0fb70ee0595203082dafcc9d/tensorflow_estimator-1.15.1-py2.py3-none-any.whl (503kB)\n\u001b[K     |\u2588\u2588\u2588\u2588\u2588\u2588\u2588\u2588\u2588\u2588\u2588\u2588\u2588\u2588\u2588\u2588\u2588\u2588\u2588\u2588\u2588\u2588\u2588\u2588\u2588\u2588\u2588\u2588\u2588\u2588\u2588\u2588| 512kB 33.2MB/s eta 0:00:01\n\u001b[?25hCollecting setuptools>=41.0.0 (from tensorboard<1.16.0,>=1.15.0->tensorflow==1.15.0)\n\u001b[?25l  Downloading https://files.pythonhosted.org/packages/8e/11/9e10f1cad4518cb307b484c255cae61e97f05b82f6d536932b1714e01b47/setuptools-49.2.0-py3-none-any.whl (789kB)\n\u001b[K     |\u2588\u2588\u2588\u2588\u2588\u2588\u2588\u2588\u2588\u2588\u2588\u2588\u2588\u2588\u2588\u2588\u2588\u2588\u2588\u2588\u2588\u2588\u2588\u2588\u2588\u2588\u2588\u2588\u2588\u2588\u2588\u2588| 798kB 30.4MB/s eta 0:00:01\n\u001b[?25hRequirement already satisfied: werkzeug>=0.11.15 in /opt/conda/envs/Python36/lib/python3.6/site-packages (from tensorboard<1.16.0,>=1.15.0->tensorflow==1.15.0) (0.14.1)\nRequirement already satisfied: markdown>=2.6.8 in /opt/conda/envs/Python36/lib/python3.6/site-packages (from tensorboard<1.16.0,>=1.15.0->tensorflow==1.15.0) (3.0.1)\nRequirement already satisfied: h5py in /opt/conda/envs/Python36/lib/python3.6/site-packages (from keras-applications>=1.0.8->tensorflow==1.15.0) (2.9.0)\n\u001b[31mERROR: autoai-libs 1.10.5 has requirement pandas>=0.24.2, but you'll have pandas 0.24.1 which is incompatible.\u001b[0m\nInstalling collected packages: setuptools, numpy, tensorboard, google-pasta, opt-einsum, tensorflow-estimator, tensorflow\n  Found existing installation: setuptools 40.8.0\n    Uninstalling setuptools-40.8.0:\n      Successfully uninstalled setuptools-40.8.0\n  Found existing installation: numpy 1.15.4\n    Uninstalling numpy-1.15.4:\n      Successfully uninstalled numpy-1.15.4\n  Found existing installation: tensorflow-estimator 1.13.0\n    Uninstalling tensorflow-estimator-1.13.0:\n      Successfully uninstalled tensorflow-estimator-1.13.0\n  Found existing installation: tensorflow 1.13.1\n    Uninstalling tensorflow-1.13.1:\n      Successfully uninstalled tensorflow-1.13.1\nSuccessfully installed google-pasta-0.2.0 numpy-1.19.1 opt-einsum-3.3.0 setuptools-49.2.0 tensorboard-1.15.0 tensorflow-1.15.0 tensorflow-estimator-1.15.1\n"
                }
            ],
            "source": "!pip install tensorflow==1.15.0"
        },
        {
            "cell_type": "markdown",
            "metadata": {},
            "source": "# 1.0 Train a MNIST digits recognition model\nWe start with some global parameters and imports"
        },
        {
            "cell_type": "code",
            "execution_count": 5,
            "metadata": {},
            "outputs": [],
            "source": "#some learners constantly reported 502 errors in Watson Studio. \n#This is due to the limited resources in the free tier and the heavy resource consumption of Keras.\n#This is a workaround to limit resource consumption\n\nfrom keras import backend as K\n\nK.set_session(K.tf.Session(config=K.tf.ConfigProto(intra_op_parallelism_threads=1, inter_op_parallelism_threads=1)))"
        },
        {
            "cell_type": "code",
            "execution_count": 6,
            "metadata": {},
            "outputs": [],
            "source": "import keras\nfrom keras.models import Model\nfrom keras.layers import Input, Dense\nfrom keras.layers import Dense, Dropout, Flatten\nfrom keras.layers import Conv2D, MaxPooling2D\nfrom keras.datasets import mnist\nfrom keras.models import Sequential, load_model\nfrom keras.optimizers import RMSprop\nfrom keras.layers import LeakyReLU\n\nfrom keras import backend as K\nimport numpy as np"
        },
        {
            "cell_type": "code",
            "execution_count": 7,
            "metadata": {},
            "outputs": [
                {
                    "name": "stdout",
                    "output_type": "stream",
                    "text": "Downloading data from https://s3.amazonaws.com/img-datasets/mnist.npz\n11493376/11490434 [==============================] - 0s 0us/step\n"
                }
            ],
            "source": "batch_size = 128\nnum_classes = 10\nepochs = 1\n\n# the data, split between train and test sets\n(x_train, y_train), (x_test, y_test) = mnist.load_data()\n\nx_train = x_train.reshape(60000, 784)\nx_test = x_test.reshape(10000, 784)\nx_train = x_train.astype('float32')\nx_test = x_test.astype('float32')\nx_train /= 255\nx_test /= 255\n\n\n# convert class vectors to binary class matrices\ny_train = keras.utils.to_categorical(y_train, num_classes)\ny_test = keras.utils.to_categorical(y_test, num_classes)\n"
        },
        {
            "cell_type": "markdown",
            "metadata": {},
            "source": "# Training a simple model\nFirst we'll train a simple softmax regressor and check what accuracy we get"
        },
        {
            "cell_type": "code",
            "execution_count": 8,
            "metadata": {},
            "outputs": [
                {
                    "name": "stdout",
                    "output_type": "stream",
                    "text": "WARNING:tensorflow:From /opt/conda/envs/Python36/lib/python3.6/site-packages/tensorflow/python/framework/op_def_library.py:263: colocate_with (from tensorflow.python.framework.ops) is deprecated and will be removed in a future version.\nInstructions for updating:\nColocations handled automatically by placer.\nWARNING:tensorflow:From /opt/conda/envs/Python36/lib/python3.6/site-packages/tensorflow/python/ops/math_ops.py:3066: to_int32 (from tensorflow.python.ops.math_ops) is deprecated and will be removed in a future version.\nInstructions for updating:\nUse tf.cast instead.\nTrain on 60000 samples, validate on 10000 samples\nEpoch 1/1\n60000/60000 [==============================] - 7s 115us/step - loss: 0.3837 - acc: 0.8889 - val_loss: 0.2981 - val_acc: 0.9143\n\n\nAccuracy: 0.9143\n"
                }
            ],
            "source": "model = Sequential()\nmodel.add(Dense(512, input_shape=(784,)))\nmodel.add(Dense(num_classes, activation='softmax'))\n\n\n\nmodel.compile(loss='categorical_crossentropy',\n        optimizer='rmsprop',\n        metrics=['accuracy'])\n\nmodel.fit(x_train, y_train,\n        batch_size=batch_size,\n        epochs=epochs,\n        verbose=1,\n        validation_data=(x_test, y_test))\n        \nscore = model.evaluate(x_test, y_test, verbose=0)\n\nprint('\\n')\nprint('Accuracy:',score[1])"
        },
        {
            "cell_type": "code",
            "execution_count": null,
            "metadata": {},
            "outputs": [],
            "source": "#some cleanup from the previous run\n!rm -f ker_*\n!rm -f my_best_model.tgz"
        },
        {
            "cell_type": "markdown",
            "metadata": {},
            "source": "You should see an accuracy of approximately 90%. Now lets define a hyper-parameter grid including different activation functions and gradient descent optimizers. We\u2019re optimizing over the grid using grid search (nested for loops) and store each model variant in a file. We then decide for the best one in order to deploy to IBM Watson Machine Learning."
        },
        {
            "cell_type": "code",
            "execution_count": null,
            "metadata": {},
            "outputs": [],
            "source": "#define parameter grid\n\nactivation_functions_layer_1 = ['sigmoid','tanh','relu']\nopimizers = ['rmsprop','adagrad','adadelta']\n\n#optimize over parameter grid (grid search)\n\nfor activation_function_layer_1 in activation_functions_layer_1:\n    for opimizer in opimizers:\n        \n        model = Sequential()\n        model.add(Dense(512, activation = activation_function_layer_1, input_shape=(784,)))\n        model.add(Dense(num_classes, activation='softmax'))\n\n\n\n        model.compile(loss='categorical_crossentropy',\n              optimizer=opimizer,\n              metrics=['accuracy'])\n\n        model.fit(x_train, y_train,\n              batch_size=batch_size,\n              epochs=epochs,\n              verbose=1,\n              validation_data=(x_test, y_test))\n        \n        score = model.evaluate(x_test, y_test, verbose=0)\n        save_path = \"ker_func_mnist_model_2.%s.%s.%s.h5\" % (activation_function_layer_1,opimizer,score[1])\n        model.save(save_path)"
        },
        {
            "cell_type": "markdown",
            "metadata": {},
            "source": "# Model evaluation\nLet's have a look at all the models and see which hyper parameter configuration was the best one. You should see that relu and rmsprop gives you > 95% of accuracy on the validation set"
        },
        {
            "cell_type": "code",
            "execution_count": null,
            "metadata": {},
            "outputs": [],
            "source": "ls -ltr ker_*"
        },
        {
            "cell_type": "markdown",
            "metadata": {},
            "source": "Now it's time to create a tarball out of your favorite model, please replace the name of your favorite model H5 file with \u201cplease-put-me-here\u201d"
        },
        {
            "cell_type": "code",
            "execution_count": null,
            "metadata": {},
            "outputs": [],
            "source": "!tar -zcvf my_best_model.tgz please-put-me-here.h5"
        },
        {
            "cell_type": "markdown",
            "metadata": {},
            "source": "## 2.0 Save the trained model to WML Repository"
        },
        {
            "cell_type": "markdown",
            "metadata": {},
            "source": "We will use `watson_machine_learning_client` python library to save the trained model to WML Repository, to deploy the saved model and to make predictions using the deployed model.</br>\n\n\n`watson_machine_learning_client` can be installed using the following `pip` command in case you are running outside Watson Studio:\n\n`!pip install watson-machine-learning-client --upgrade`"
        },
        {
            "cell_type": "code",
            "execution_count": null,
            "metadata": {},
            "outputs": [],
            "source": "from watson_machine_learning_client import WatsonMachineLearningAPIClient"
        },
        {
            "cell_type": "markdown",
            "metadata": {},
            "source": "Please go to https://cloud.ibm.com/,  login, click on the \u201cCreate Resource\u201d button. From the \u201cAI\u201d category, please choose \u201cMachine Learning\u201d. Wait for the \u201cCreate\u201d button to activate and click on \u201cCreate\u201d. Click on \u201cService Credentials\u201d, then \u201cNew Credential\u201d, then \u201cAdd\u201d. From the new entry in the table, under \u201cACTIONS\u201d, please click on \u201cView Credentials\u201d. Please copy the whole JSON object to your clipboard. Now just paste the JSON object below so that you are able to use your personal instance of Watson Machine Learning."
        },
        {
            "cell_type": "code",
            "execution_count": null,
            "metadata": {},
            "outputs": [],
            "source": "wml_credentials={\n  \"apikey\": \"hZ00Ov4tpXF5rzRUEyObEC7J1f_4Cvu8mkoYRh9AtHdL\",\n  \"iam_apikey_description\": \"Auto generated apikey during resource-key operation for Instance - crn:v1:bluemix:public:pm-20:us-south:a/4b5f219cdaee498f9dac672a8966c254:708f4e4e-ffa6-4be2-8427-7a0a73ae6949::\",\n  \"iam_apikey_name\": \"auto-generated-apikey-ae8c30a4-8f83-44e2-98b5-9461e847b11f\",\n  \"iam_role_crn\": \"crn:v1:bluemix:public:iam::::serviceRole:Writer\",\n  \"iam_serviceid_crn\": \"crn:v1:bluemix:public:iam-identity::a/4b5f219cdaee498f9dac672a8966c254::serviceid:ServiceId-c6a23b0b-5e7d-47b0-a3e0-6a2b51aa1817\",\n  \"instance_id\": \"708f4e4e-ffa6-4be2-8427-7a0a73ae6949\",\n  \"password\": \"\",\n  \"url\": \"https://us-south.ml.cloud.ibm.com\",\n  \"username\": \"ae8c30a4-8f83-44e2-98b5-9461e847b11f\"\n}"
        },
        {
            "cell_type": "code",
            "execution_count": null,
            "metadata": {},
            "outputs": [],
            "source": "client = WatsonMachineLearningAPIClient(wml_credentials)"
        },
        {
            "cell_type": "code",
            "execution_count": null,
            "metadata": {},
            "outputs": [],
            "source": "model_props = {client.repository.ModelMetaNames.AUTHOR_NAME: \"IBM\", \n               client.repository.ModelMetaNames.AUTHOR_EMAIL: \"ibm@ibm.com\", \n               client.repository.ModelMetaNames.NAME: \"KK3_clt_keras_mnist\",\n               client.repository.ModelMetaNames.FRAMEWORK_NAME: \"tensorflow\",\n               client.repository.ModelMetaNames.FRAMEWORK_VERSION: \"1.15\" ,\n               client.repository.ModelMetaNames.FRAMEWORK_LIBRARIES: [{\"name\": \"keras\", \"version\": \"2.2.5\"}]\n              }"
        },
        {
            "cell_type": "code",
            "execution_count": null,
            "metadata": {},
            "outputs": [],
            "source": "published_model = client.repository.store_model(model=\"my_best_model.tgz\", meta_props=model_props)\n"
        },
        {
            "cell_type": "code",
            "execution_count": null,
            "metadata": {},
            "outputs": [],
            "source": "published_model_uid = client.repository.get_model_uid(published_model)\nmodel_details = client.repository.get_details(published_model_uid)"
        },
        {
            "cell_type": "markdown",
            "metadata": {},
            "source": "## 3.0 Deploy the Keras model"
        },
        {
            "cell_type": "code",
            "execution_count": null,
            "metadata": {},
            "outputs": [],
            "source": "client.deployments.list()"
        },
        {
            "cell_type": "markdown",
            "metadata": {},
            "source": "To keep your environment clean, just delete all deployments from previous runs"
        },
        {
            "cell_type": "code",
            "execution_count": null,
            "metadata": {},
            "outputs": [],
            "source": "client.deployments.delete(\"PASTE_YOUR_GUID_HERE_IF_APPLICABLE\")"
        },
        {
            "cell_type": "code",
            "execution_count": null,
            "metadata": {},
            "outputs": [],
            "source": "created_deployment = client.deployments.create(published_model_uid, name=\"k1_keras_mnist_clt1\")"
        },
        {
            "cell_type": "markdown",
            "metadata": {},
            "source": "## Test the model"
        },
        {
            "cell_type": "code",
            "execution_count": null,
            "metadata": {},
            "outputs": [],
            "source": "#scoring_endpoint = client.deployments.get_scoring_url(created_deployment)\nscoring_endpoint = created_deployment['entity']['scoring_url']\nprint(scoring_endpoint)"
        },
        {
            "cell_type": "code",
            "execution_count": null,
            "metadata": {},
            "outputs": [],
            "source": "x_score_1 = x_test[23].tolist()\nprint('The answer should be: ',np.argmax(y_test[23]))\nscoring_payload = {'values': [x_score_1]}"
        },
        {
            "cell_type": "code",
            "execution_count": null,
            "metadata": {},
            "outputs": [],
            "source": "predictions = client.deployments.score(scoring_endpoint, scoring_payload)\nprint('And the answer is!... ',predictions['values'][0][1])"
        },
        {
            "cell_type": "code",
            "execution_count": null,
            "metadata": {},
            "outputs": [],
            "source": ""
        }
    ],
    "metadata": {
        "kernelspec": {
            "display_name": "Python 3.6",
            "language": "python",
            "name": "python3"
        },
        "language_info": {
            "codemirror_mode": {
                "name": "ipython",
                "version": 3
            },
            "file_extension": ".py",
            "mimetype": "text/x-python",
            "name": "python",
            "nbconvert_exporter": "python",
            "pygments_lexer": "ipython3",
            "version": "3.6.9"
        }
    },
    "nbformat": 4,
    "nbformat_minor": 2
}